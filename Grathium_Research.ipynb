{
  "nbformat": 4,
  "nbformat_minor": 0,
  "metadata": {
    "colab": {
      "name": "Grathium Research",
      "provenance": [],
      "collapsed_sections": [],
      "authorship_tag": "ABX9TyMj7xp87VnPYEOqQT57f9ye",
      "include_colab_link": true
    },
    "kernelspec": {
      "name": "python3",
      "display_name": "Python 3"
    }
  },
  "cells": [
    {
      "cell_type": "markdown",
      "metadata": {
        "id": "view-in-github",
        "colab_type": "text"
      },
      "source": [
        "<a href=\"https://colab.research.google.com/github/Grathium-Industries/Grathium-Research/blob/main/Grathium_Research.ipynb\" target=\"_parent\"><img src=\"https://colab.research.google.com/assets/colab-badge.svg\" alt=\"Open In Colab\"/></a>"
      ]
    },
    {
      "cell_type": "markdown",
      "metadata": {
        "id": "grPR789rMWrW"
      },
      "source": [
        "**Prime Number Frequency**  \n",
        "Outputs the frequency and jumps between prime numbers.  \n",
        "  \n",
        "We expected this graph to follow a logarythmic pattern type. However, it was found that the jumps followed a pattern similar to a geometric sequence.\n"
      ]
    },
    {
      "cell_type": "code",
      "metadata": {
        "id": "J8TLWqIAwjzx"
      },
      "source": [
        "# inilization and imports\n",
        "import math\n",
        "import matplotlib.pyplot as plt"
      ],
      "execution_count": null,
      "outputs": []
    },
    {
      "cell_type": "code",
      "metadata": {
        "id": "m82cqAHjHd-R",
        "outputId": "72570304-0748-456d-c7e3-bf5ba9feb21f",
        "colab": {
          "base_uri": "https://localhost:8080/",
          "height": 93
        }
      },
      "source": [
        "# get an array of all prime numbers\n",
        "primeNumbers = []\n",
        "class PrimeNumbersOBJ:\n",
        "    def isPrime(num):\n",
        "        for i in range(math.ceil(num / 2)):\n",
        "            for j in range(math.ceil(num / 2)):\n",
        "                if (i * j) == num:\n",
        "                    return False\n",
        "    \n",
        "        return True\n",
        "\n",
        "    def __main__():\n",
        "        print(\"Get a list of all prime numbers up to,\")\n",
        "        for i in range(1, int(input())):\n",
        "            if PrimeNumbersOBJ.isPrime(i):\n",
        "                primeNumbers.append(i)\n",
        "        \n",
        "        print(primeNumbers)\n",
        "\n",
        "PrimeNumbersOBJ.__main__()"
      ],
      "execution_count": null,
      "outputs": [
        {
          "output_type": "stream",
          "text": [
            "Get a list of all prime numbers up to,\n",
            "5000\n",
            "[1, 2, 3, 4, 5, 6, 7, 8, 10, 11, 13, 14, 17, 19, 22, 23, 26, 29, 31, 34, 37, 38, 41, 43, 46, 47, 53, 58, 59, 61, 62, 67, 71, 73, 74, 79, 82, 83, 86, 89, 94, 97, 101, 103, 106, 107, 109, 113, 118, 122, 127, 131, 134, 137, 139, 142, 146, 149, 151, 157, 158, 163, 166, 167, 173, 178, 179, 181, 191, 193, 194, 197, 199, 202, 206, 211, 214, 218, 223, 226, 227, 229, 233, 239, 241, 251, 254, 257, 262, 263, 269, 271, 274, 277, 278, 281, 283, 293, 298, 302, 307, 311, 313, 314, 317, 326, 331, 334, 337, 346, 347, 349, 353, 358, 359, 362, 367, 373, 379, 382, 383, 386, 389, 394, 397, 398, 401, 409, 419, 421, 422, 431, 433, 439, 443, 446, 449, 454, 457, 458, 461, 463, 466, 467, 478, 479, 482, 487, 491, 499, 502, 503, 509, 514, 521, 523, 526, 538, 541, 542, 547, 554, 557, 562, 563, 566, 569, 571, 577, 586, 587, 593, 599, 601, 607, 613, 614, 617, 619, 622, 626, 631, 634, 641, 643, 647, 653, 659, 661, 662, 673, 674, 677, 683, 691, 694, 698, 701, 706, 709, 718, 719, 727, 733, 734, 739, 743, 746, 751, 757, 758, 761, 766, 769, 773, 778, 787, 794, 797, 802, 809, 811, 818, 821, 823, 827, 829, 838, 839, 842, 853, 857, 859, 862, 863, 866, 877, 878, 881, 883, 886, 887, 898, 907, 911, 914, 919, 922, 926, 929, 934, 937, 941, 947, 953, 958, 967, 971, 974, 977, 982, 983, 991, 997, 998, 1006, 1009, 1013, 1018, 1019, 1021, 1031, 1033, 1039, 1042, 1046, 1049, 1051, 1061, 1063, 1069, 1082, 1087, 1091, 1093, 1094, 1097, 1103, 1109, 1114, 1117, 1123, 1126, 1129, 1138, 1142, 1151, 1153, 1154, 1163, 1171, 1174, 1181, 1186, 1187, 1193, 1198, 1201, 1202, 1213, 1214, 1217, 1223, 1226, 1229, 1231, 1234, 1237, 1238, 1249, 1259, 1262, 1277, 1279, 1282, 1283, 1286, 1289, 1291, 1294, 1297, 1301, 1303, 1306, 1307, 1318, 1319, 1321, 1322, 1327, 1346, 1354, 1361, 1366, 1367, 1373, 1381, 1382, 1399, 1402, 1409, 1418, 1423, 1427, 1429, 1433, 1438, 1439, 1447, 1451, 1453, 1454, 1459, 1466, 1471, 1478, 1481, 1483, 1486, 1487, 1489, 1493, 1499, 1502, 1511, 1514, 1522, 1523, 1531, 1538, 1543, 1546, 1549, 1553, 1559, 1567, 1571, 1574, 1579, 1583, 1594, 1597, 1601, 1607, 1609, 1613, 1618, 1619, 1621, 1622, 1627, 1637, 1642, 1646, 1654, 1657, 1658, 1663, 1667, 1669, 1678, 1693, 1697, 1699, 1706, 1709, 1714, 1718, 1721, 1723, 1726, 1733, 1741, 1747, 1753, 1754, 1759, 1762, 1766, 1774, 1777, 1783, 1787, 1789, 1801, 1811, 1814, 1822, 1823, 1831, 1838, 1847, 1858, 1861, 1867, 1871, 1873, 1874, 1877, 1879, 1882, 1889, 1894, 1901, 1906, 1907, 1913, 1931, 1933, 1934, 1942, 1949, 1951, 1954, 1966, 1973, 1979, 1982, 1987, 1993, 1994, 1997, 1999, 2003, 2011, 2017, 2018, 2026, 2027, 2029, 2038, 2039, 2042, 2053, 2062, 2063, 2066, 2069, 2078, 2081, 2083, 2087, 2089, 2098, 2099, 2102, 2111, 2113, 2122, 2126, 2129, 2131, 2137, 2138, 2141, 2143, 2153, 2161, 2174, 2179, 2182, 2186, 2194, 2203, 2206, 2207, 2213, 2218, 2221, 2234, 2237, 2239, 2243, 2246, 2251, 2258, 2267, 2269, 2273, 2281, 2287, 2293, 2297, 2302, 2306, 2309, 2311, 2326, 2333, 2339, 2341, 2342, 2347, 2351, 2357, 2362, 2371, 2374, 2377, 2381, 2383, 2386, 2389, 2393, 2399, 2402, 2411, 2417, 2423, 2426, 2434, 2437, 2441, 2446, 2447, 2458, 2459, 2462, 2467, 2473, 2474, 2477, 2498, 2503, 2518, 2521, 2531, 2539, 2543, 2549, 2551, 2554, 2557, 2558, 2566, 2578, 2579, 2582, 2591, 2593, 2594, 2602, 2606, 2609, 2614, 2617, 2621, 2633, 2638, 2642, 2647, 2654, 2657, 2659, 2663, 2671, 2677, 2683, 2687, 2689, 2693, 2699, 2707, 2711, 2713, 2719, 2722, 2729, 2731, 2734, 2741, 2746, 2749, 2753, 2762, 2767, 2777, 2789, 2791, 2797, 2798, 2801, 2803, 2818, 2819, 2833, 2837, 2843, 2846, 2851, 2854, 2857, 2858, 2861, 2866, 2878, 2879, 2887, 2894, 2897, 2902, 2903, 2906, 2909, 2917, 2918, 2927, 2939, 2942, 2953, 2957, 2962, 2963, 2966, 2969, 2971, 2974, 2978, 2986, 2998, 2999, 3001, 3011, 3019, 3022, 3023, 3037, 3041, 3046, 3049, 3061, 3062, 3067, 3079, 3083, 3086, 3089, 3098, 3106, 3109, 3118, 3119, 3121, 3134, 3137, 3142, 3158, 3163, 3166, 3167, 3169, 3181, 3187, 3191, 3194, 3202, 3203, 3209, 3214, 3217, 3218, 3221, 3226, 3229, 3238, 3242, 3251, 3253, 3254, 3257, 3259, 3271, 3274, 3299, 3301, 3307, 3313, 3314, 3319, 3323, 3326, 3329, 3331, 3334, 3338, 3343, 3347, 3359, 3361, 3371, 3373, 3386, 3389, 3391, 3394, 3398, 3407, 3413, 3418, 3433, 3442, 3446, 3449, 3457, 3461, 3463, 3466, 3467, 3469, 3482, 3491, 3494, 3499, 3506, 3511, 3517, 3518, 3527, 3529, 3533, 3539, 3541, 3547, 3554, 3557, 3559, 3566, 3571, 3574, 3578, 3581, 3583, 3593, 3602, 3607, 3613, 3617, 3622, 3623, 3631, 3637, 3643, 3646, 3659, 3662, 3671, 3673, 3677, 3691, 3694, 3697, 3701, 3709, 3719, 3722, 3727, 3733, 3734, 3739, 3742, 3746, 3754, 3758, 3761, 3767, 3769, 3778, 3779, 3793, 3797, 3802, 3803, 3814, 3821, 3823, 3826, 3833, 3847, 3851, 3853, 3862, 3863, 3866, 3877, 3881, 3889, 3898, 3902, 3907, 3911, 3917, 3919, 3923, 3929, 3931, 3943, 3946, 3947, 3958, 3967, 3974, 3986, 3989, 3994, 3998, 4001, 4003, 4006, 4007, 4013, 4019, 4021, 4022, 4027, 4034, 4049, 4051, 4054, 4057, 4058, 4073, 4078, 4079, 4091, 4093, 4099, 4106, 4111, 4126, 4127, 4129, 4133, 4138, 4139, 4153, 4157, 4159, 4162, 4166, 4174, 4177, 4178, 4198, 4201, 4211, 4217, 4219, 4222, 4226, 4229, 4231, 4241, 4243, 4253, 4258, 4259, 4261, 4262, 4271, 4273, 4274, 4282, 4283, 4286, 4289, 4297, 4306, 4322, 4327, 4337, 4339, 4349, 4357, 4358, 4363, 4373, 4391, 4397, 4406, 4409, 4414, 4421, 4423, 4426, 4441, 4442, 4447, 4451, 4457, 4463, 4474, 4478, 4481, 4483, 4486, 4493, 4502, 4507, 4513, 4517, 4519, 4523, 4534, 4538, 4546, 4547, 4549, 4561, 4562, 4567, 4574, 4583, 4586, 4591, 4594, 4597, 4603, 4618, 4621, 4622, 4637, 4639, 4643, 4649, 4651, 4657, 4663, 4666, 4673, 4678, 4679, 4682, 4691, 4694, 4702, 4703, 4714, 4721, 4723, 4729, 4733, 4742, 4751, 4754, 4759, 4762, 4766, 4778, 4783, 4786, 4787, 4789, 4793, 4798, 4799, 4801, 4813, 4817, 4822, 4831, 4834, 4846, 4861, 4871, 4874, 4877, 4882, 4889, 4894, 4903, 4909, 4918, 4919, 4931, 4933, 4934, 4937, 4943, 4946, 4951, 4954, 4957, 4967, 4969, 4973, 4987, 4993, 4999]\n"
          ],
          "name": "stdout"
        }
      ]
    },
    {
      "cell_type": "code",
      "metadata": {
        "id": "_5qmQNcZxcjx"
      },
      "source": [
        "def makeDifferenceArray(array):\n",
        "    differenceArray = []\n",
        "    for i in range(len(array) - 1):\n",
        "        differenceArray.append(array[i + 1] - array[i])\n",
        "    \n",
        "    return differenceArray\n",
        "\n",
        "def makeCountingArray(array):\n",
        "    countingArray = []\n",
        "\n",
        "    for i in range(len(array)):\n",
        "        countingArray.append(i + 1)\n",
        "    \n",
        "    return countingArray"
      ],
      "execution_count": null,
      "outputs": []
    },
    {
      "cell_type": "code",
      "metadata": {
        "id": "JRF4hndGwWjl",
        "outputId": "71576bca-280e-4ed5-bdea-639ab67f9bf5",
        "colab": {
          "base_uri": "https://localhost:8080/",
          "height": 334
        }
      },
      "source": [
        "# plot graph of frequency of prime numbers\n",
        "differenceArray = makeDifferenceArray(primeNumbers)\n",
        "countingArray = makeCountingArray(primeNumbers)\n",
        "\n",
        "plt.plot(countingArray[:-1], differenceArray)\n",
        "print(differenceArray)\n",
        "\n",
        "# naming the x axis\n",
        "plt.xlabel('Difference')\n",
        "# naming the y axis\n",
        "plt.ylabel('Frequency')\n",
        "\n",
        "# giving a title to my graph\n",
        "plt.title('Prime Numbers Plot')\n",
        "\n",
        "# function to show the plot\n",
        "plt.show()"
      ],
      "execution_count": null,
      "outputs": [
        {
          "output_type": "stream",
          "text": [
            "[1, 1, 1, 1, 1, 1, 1, 2, 1, 2, 1, 3, 2, 3, 1, 3, 3, 2, 3, 3, 1, 3, 2, 3, 1, 6, 5, 1, 2, 1, 5, 4, 2, 1, 5, 3, 1, 3, 3, 5, 3, 4, 2, 3, 1, 2, 4, 5, 4, 5, 4, 3, 3, 2, 3, 4, 3, 2, 6, 1, 5, 3, 1, 6, 5, 1, 2, 10, 2, 1, 3, 2, 3, 4, 5, 3, 4, 5, 3, 1, 2, 4, 6, 2, 10, 3, 3, 5, 1, 6, 2, 3, 3, 1, 3, 2, 10, 5, 4, 5, 4, 2, 1, 3, 9, 5, 3, 3, 9, 1, 2, 4, 5, 1, 3, 5, 6, 6, 3, 1, 3, 3, 5, 3, 1, 3, 8, 10, 2, 1, 9, 2, 6, 4, 3, 3, 5, 3, 1, 3, 2, 3, 1, 11, 1, 3, 5, 4, 8, 3, 1, 6, 5, 7, 2, 3, 12, 3, 1, 5, 7, 3, 5, 1, 3, 3, 2, 6, 9, 1, 6, 6, 2, 6, 6, 1, 3, 2, 3, 4, 5, 3, 7, 2, 4, 6, 6, 2, 1, 11, 1, 3, 6, 8, 3, 4, 3, 5, 3, 9, 1, 8, 6, 1, 5, 4, 3, 5, 6, 1, 3, 5, 3, 4, 5, 9, 7, 3, 5, 7, 2, 7, 3, 2, 4, 2, 9, 1, 3, 11, 4, 2, 3, 1, 3, 11, 1, 3, 2, 3, 1, 11, 9, 4, 3, 5, 3, 4, 3, 5, 3, 4, 6, 6, 5, 9, 4, 3, 3, 5, 1, 8, 6, 1, 8, 3, 4, 5, 1, 2, 10, 2, 6, 3, 4, 3, 2, 10, 2, 6, 13, 5, 4, 2, 1, 3, 6, 6, 5, 3, 6, 3, 3, 9, 4, 9, 2, 1, 9, 8, 3, 7, 5, 1, 6, 5, 3, 1, 11, 1, 3, 6, 3, 3, 2, 3, 3, 1, 11, 10, 3, 15, 2, 3, 1, 3, 3, 2, 3, 3, 4, 2, 3, 1, 11, 1, 2, 1, 5, 19, 8, 7, 5, 1, 6, 8, 1, 17, 3, 7, 9, 5, 4, 2, 4, 5, 1, 8, 4, 2, 1, 5, 7, 5, 7, 3, 2, 3, 1, 2, 4, 6, 3, 9, 3, 8, 1, 8, 7, 5, 3, 3, 4, 6, 8, 4, 3, 5, 4, 11, 3, 4, 6, 2, 4, 5, 1, 2, 1, 5, 10, 5, 4, 8, 3, 1, 5, 4, 2, 9, 15, 4, 2, 7, 3, 5, 4, 3, 2, 3, 7, 8, 6, 6, 1, 5, 3, 4, 8, 3, 6, 4, 2, 12, 10, 3, 8, 1, 8, 7, 9, 11, 3, 6, 4, 2, 1, 3, 2, 3, 7, 5, 7, 5, 1, 6, 18, 2, 1, 8, 7, 2, 3, 12, 7, 6, 3, 5, 6, 1, 3, 2, 4, 8, 6, 1, 8, 1, 2, 9, 1, 3, 11, 9, 1, 3, 3, 9, 3, 2, 4, 2, 9, 1, 3, 9, 2, 9, 4, 3, 2, 6, 1, 3, 2, 10, 8, 13, 5, 3, 4, 8, 9, 3, 1, 6, 5, 3, 13, 3, 2, 4, 3, 5, 7, 9, 2, 4, 8, 6, 6, 4, 5, 4, 3, 2, 15, 7, 6, 2, 1, 5, 4, 6, 5, 9, 3, 3, 4, 2, 3, 3, 4, 6, 3, 9, 6, 6, 3, 8, 3, 4, 5, 1, 11, 1, 3, 5, 6, 1, 3, 21, 5, 15, 3, 10, 8, 4, 6, 2, 3, 3, 1, 8, 12, 1, 3, 9, 2, 1, 8, 4, 3, 5, 3, 4, 12, 5, 4, 5, 7, 3, 2, 4, 8, 6, 6, 4, 2, 4, 6, 8, 4, 2, 6, 3, 7, 2, 3, 7, 5, 3, 4, 9, 5, 10, 12, 2, 6, 1, 3, 2, 15, 1, 14, 4, 6, 3, 5, 3, 3, 1, 3, 5, 12, 1, 8, 7, 3, 5, 1, 3, 3, 8, 1, 9, 12, 3, 11, 4, 5, 1, 3, 3, 2, 3, 4, 8, 12, 1, 2, 10, 8, 3, 1, 14, 4, 5, 3, 12, 1, 5, 12, 4, 3, 3, 9, 8, 3, 9, 1, 2, 13, 3, 5, 16, 5, 3, 1, 2, 12, 6, 4, 3, 8, 1, 6, 5, 3, 1, 3, 5, 3, 9, 4, 9, 2, 1, 3, 2, 12, 3, 25, 2, 6, 6, 1, 5, 4, 3, 3, 2, 3, 4, 5, 4, 12, 2, 10, 2, 13, 3, 2, 3, 4, 9, 6, 5, 15, 9, 4, 3, 8, 4, 2, 3, 1, 2, 13, 9, 3, 5, 7, 5, 6, 1, 9, 2, 4, 6, 2, 6, 7, 3, 2, 7, 5, 3, 4, 3, 2, 10, 9, 5, 6, 4, 5, 1, 8, 6, 6, 3, 13, 3, 9, 2, 4, 14, 3, 3, 4, 8, 10, 3, 5, 6, 1, 5, 3, 4, 8, 4, 3, 6, 2, 9, 1, 14, 4, 5, 1, 11, 7, 2, 3, 7, 14, 4, 2, 9, 1, 3, 11, 4, 8, 9, 4, 5, 4, 6, 2, 4, 6, 2, 12, 3, 1, 11, 9, 7, 12, 3, 5, 4, 3, 2, 3, 1, 6, 6, 2, 1, 5, 7, 15, 2, 3, 3, 1, 15, 5, 1, 12, 2, 6, 7, 5, 15, 1, 2, 4, 5, 1, 14, 4, 2, 3, 4, 8, 3, 1, 20, 3, 10, 6, 2, 3, 4, 3, 2, 10, 2, 10, 5, 1, 2, 1, 9, 2, 1, 8, 1, 3, 3, 8, 9, 16, 5, 10, 2, 10, 8, 1, 5, 10, 18, 6, 9, 3, 5, 7, 2, 3, 15, 1, 5, 4, 6, 6, 11, 4, 3, 2, 3, 7, 9, 5, 6, 4, 2, 4, 11, 4, 8, 1, 2, 12, 1, 5, 7, 9, 3, 5, 3, 3, 6, 15, 3, 1, 15, 2, 4, 6, 2, 6, 6, 3, 7, 5, 1, 3, 9, 3, 8, 1, 11, 7, 2, 6, 4, 9, 9, 3, 5, 3, 4, 12, 5, 3, 1, 2, 4, 5, 1, 2, 12, 4, 5, 9, 3, 12, 15, 10, 3, 3, 5, 7, 5, 9, 6, 9, 1, 12, 2, 1, 3, 6, 3, 5, 3, 3, 10, 2, 4, 14, 6, 6]\n"
          ],
          "name": "stdout"
        },
        {
          "output_type": "display_data",
          "data": {
            "image/png": "[encoded data removed]",
            "text/plain": [
              "<Figure size 432x288 with 1 Axes>"
            ]
          },
          "metadata": {
            "tags": [],
            "needs_background": "light"
          }
        }
      ]
    },
    {
      "cell_type": "markdown",
      "metadata": {
        "id": "748drxw5Envd"
      },
      "source": [
        "**Odd+Odd Always Equals an Even (working proof)**"
      ]
    },
    {
      "cell_type": "code",
      "metadata": {
        "id": "ENKrg9vLExT-",
        "outputId": "22097bd3-1073-4d34-fc39-98905e843751",
        "colab": {
          "base_uri": "https://localhost:8080/",
          "height": 241
        }
      },
      "source": [
        "def getOddSum(cap):\n",
        "    printOut = []\n",
        "\n",
        "    for i in range(cap):\n",
        "        # check if number is even. If even, skip interation\n",
        "        if i % 2 == 0: continue\n",
        "\n",
        "        for j in range(i, cap - i):\n",
        "            if j % 2 == 0: continue\n",
        "            printOut.append(i + j)\n",
        "        \n",
        "        return printOut\n",
        "\n",
        "def findOdd(sumArray):\n",
        "    foundOddNum = False\n",
        "    for i in range(len(sumArray)):\n",
        "        if sumArray[i] % 2 != 0: foundOddNum = True\n",
        "    \n",
        "    return foundOddNum\n",
        "\n",
        "# entry point of program\n",
        "print(\"number cap:\")\n",
        "oddNumberSums = getOddSum(int(input()))\n",
        "\n",
        "print(oddNumberSums)\n",
        "print(findOdd(oddNumberSums))"
      ],
      "execution_count": null,
      "outputs": [
        {
          "output_type": "stream",
          "text": [
            "number cap:\n",
            "999999\n"
          ],
          "name": "stdout"
        },
        {
          "output_type": "stream",
          "text": [
            "IOPub data rate exceeded.\n",
            "The notebook server will temporarily stop sending output\n",
            "to the client in order to avoid crashing it.\n",
            "To change this limit, set the config variable\n",
            "`--NotebookApp.iopub_data_rate_limit`.\n",
            "\n",
            "Current values:\n",
            "NotebookApp.iopub_data_rate_limit=1000000.0 (bytes/sec)\n",
            "NotebookApp.rate_limit_window=3.0 (secs)\n",
            "\n"
          ],
          "name": "stderr"
        }
      ]
    }
  ]
}